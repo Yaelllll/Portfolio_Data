{
  "cells": [
    {
      "cell_type": "markdown",
      "source": [
        "#If you had to move to Canada, where would it be safer to live?\n",
        "\n"
      ],
      "metadata": {
        "id": "z9YnKLIMLaBp"
      }
    },
    {
      "cell_type": "markdown",
      "source": [
        "Every year, more and more people (students, workers, refugees, etc.) migrate to Canada. Over time, Canada has become one of the top choices for relocation due to its safety, quality of life, and multiculturalism.\n",
        "\n",
        "This analysis aims to find which province in Canada is the safest in order to make an informed decision about moving."
      ],
      "metadata": {
        "id": "CUQDm-Y8Ns3d"
      }
    },
    {
      "cell_type": "code",
      "execution_count": 36,
      "metadata": {
        "id": "LwEqZYp6ONOk"
      },
      "outputs": [],
      "source": [
        "import pandas as pd\n",
        "import matplotlib.pyplot as plt\n",
        "import numpy as np\n",
        "import seaborn as sns\n",
        "from sklearn.preprocessing import LabelEncoder"
      ]
    },
    {
      "cell_type": "code",
      "execution_count": 37,
      "metadata": {
        "id": "ezpWS160OZdi"
      },
      "outputs": [],
      "source": [
        "df = pd.read_csv('/content/drive/MyDrive/Yael/DEV/0. Projects-Data/5. Crimes Canada/Crimes_report_Canada_2021.csv')"
      ]
    },
    {
      "cell_type": "code",
      "execution_count": 38,
      "metadata": {
        "colab": {
          "base_uri": "https://localhost:8080/",
          "height": 143
        },
        "id": "hYf6hxOiqlVK",
        "outputId": "f893d4fc-d4b7-40f9-8c2a-86febebfc522"
      },
      "outputs": [
        {
          "output_type": "execute_result",
          "data": {
            "text/plain": [
              "      CITY  TOWN Population CSI_Violent %_CHNG_Violent CSI_NoViolent  \\\n",
              "0   Toronto   ON  2,794,396        88.3         -2.40%          45.2   \n",
              "1  Montréal   QC  1,762,949       105.3         14.60%          59.9   \n",
              "2   Calgary   AB  1,305,550          86          6.50%            70   \n",
              "\n",
              "  %_CHNG_NoViolent  \n",
              "0           -1.60%  \n",
              "1            2.70%  \n",
              "2          -13.90%  "
            ],
            "text/html": [
              "\n",
              "\n",
              "  <div id=\"df-54c1ac03-f9f2-48a4-996b-4a605b00bdeb\">\n",
              "    <div class=\"colab-df-container\">\n",
              "      <div>\n",
              "<style scoped>\n",
              "    .dataframe tbody tr th:only-of-type {\n",
              "        vertical-align: middle;\n",
              "    }\n",
              "\n",
              "    .dataframe tbody tr th {\n",
              "        vertical-align: top;\n",
              "    }\n",
              "\n",
              "    .dataframe thead th {\n",
              "        text-align: right;\n",
              "    }\n",
              "</style>\n",
              "<table border=\"1\" class=\"dataframe\">\n",
              "  <thead>\n",
              "    <tr style=\"text-align: right;\">\n",
              "      <th></th>\n",
              "      <th>CITY</th>\n",
              "      <th>TOWN</th>\n",
              "      <th>Population</th>\n",
              "      <th>CSI_Violent</th>\n",
              "      <th>%_CHNG_Violent</th>\n",
              "      <th>CSI_NoViolent</th>\n",
              "      <th>%_CHNG_NoViolent</th>\n",
              "    </tr>\n",
              "  </thead>\n",
              "  <tbody>\n",
              "    <tr>\n",
              "      <th>0</th>\n",
              "      <td>Toronto</td>\n",
              "      <td>ON</td>\n",
              "      <td>2,794,396</td>\n",
              "      <td>88.3</td>\n",
              "      <td>-2.40%</td>\n",
              "      <td>45.2</td>\n",
              "      <td>-1.60%</td>\n",
              "    </tr>\n",
              "    <tr>\n",
              "      <th>1</th>\n",
              "      <td>Montréal</td>\n",
              "      <td>QC</td>\n",
              "      <td>1,762,949</td>\n",
              "      <td>105.3</td>\n",
              "      <td>14.60%</td>\n",
              "      <td>59.9</td>\n",
              "      <td>2.70%</td>\n",
              "    </tr>\n",
              "    <tr>\n",
              "      <th>2</th>\n",
              "      <td>Calgary</td>\n",
              "      <td>AB</td>\n",
              "      <td>1,305,550</td>\n",
              "      <td>86</td>\n",
              "      <td>6.50%</td>\n",
              "      <td>70</td>\n",
              "      <td>-13.90%</td>\n",
              "    </tr>\n",
              "  </tbody>\n",
              "</table>\n",
              "</div>\n",
              "      <button class=\"colab-df-convert\" onclick=\"convertToInteractive('df-54c1ac03-f9f2-48a4-996b-4a605b00bdeb')\"\n",
              "              title=\"Convert this dataframe to an interactive table.\"\n",
              "              style=\"display:none;\">\n",
              "\n",
              "  <svg xmlns=\"http://www.w3.org/2000/svg\" height=\"24px\"viewBox=\"0 0 24 24\"\n",
              "       width=\"24px\">\n",
              "    <path d=\"M0 0h24v24H0V0z\" fill=\"none\"/>\n",
              "    <path d=\"M18.56 5.44l.94 2.06.94-2.06 2.06-.94-2.06-.94-.94-2.06-.94 2.06-2.06.94zm-11 1L8.5 8.5l.94-2.06 2.06-.94-2.06-.94L8.5 2.5l-.94 2.06-2.06.94zm10 10l.94 2.06.94-2.06 2.06-.94-2.06-.94-.94-2.06-.94 2.06-2.06.94z\"/><path d=\"M17.41 7.96l-1.37-1.37c-.4-.4-.92-.59-1.43-.59-.52 0-1.04.2-1.43.59L10.3 9.45l-7.72 7.72c-.78.78-.78 2.05 0 2.83L4 21.41c.39.39.9.59 1.41.59.51 0 1.02-.2 1.41-.59l7.78-7.78 2.81-2.81c.8-.78.8-2.07 0-2.86zM5.41 20L4 18.59l7.72-7.72 1.47 1.35L5.41 20z\"/>\n",
              "  </svg>\n",
              "      </button>\n",
              "\n",
              "\n",
              "\n",
              "    <div id=\"df-2d8ee9a8-95e7-478f-83a8-4bd24eec693b\">\n",
              "      <button class=\"colab-df-quickchart\" onclick=\"quickchart('df-2d8ee9a8-95e7-478f-83a8-4bd24eec693b')\"\n",
              "              title=\"Suggest charts.\"\n",
              "              style=\"display:none;\">\n",
              "\n",
              "<svg xmlns=\"http://www.w3.org/2000/svg\" height=\"24px\"viewBox=\"0 0 24 24\"\n",
              "     width=\"24px\">\n",
              "    <g>\n",
              "        <path d=\"M19 3H5c-1.1 0-2 .9-2 2v14c0 1.1.9 2 2 2h14c1.1 0 2-.9 2-2V5c0-1.1-.9-2-2-2zM9 17H7v-7h2v7zm4 0h-2V7h2v10zm4 0h-2v-4h2v4z\"/>\n",
              "    </g>\n",
              "</svg>\n",
              "      </button>\n",
              "    </div>\n",
              "\n",
              "<style>\n",
              "  .colab-df-quickchart {\n",
              "    background-color: #E8F0FE;\n",
              "    border: none;\n",
              "    border-radius: 50%;\n",
              "    cursor: pointer;\n",
              "    display: none;\n",
              "    fill: #1967D2;\n",
              "    height: 32px;\n",
              "    padding: 0 0 0 0;\n",
              "    width: 32px;\n",
              "  }\n",
              "\n",
              "  .colab-df-quickchart:hover {\n",
              "    background-color: #E2EBFA;\n",
              "    box-shadow: 0px 1px 2px rgba(60, 64, 67, 0.3), 0px 1px 3px 1px rgba(60, 64, 67, 0.15);\n",
              "    fill: #174EA6;\n",
              "  }\n",
              "\n",
              "  [theme=dark] .colab-df-quickchart {\n",
              "    background-color: #3B4455;\n",
              "    fill: #D2E3FC;\n",
              "  }\n",
              "\n",
              "  [theme=dark] .colab-df-quickchart:hover {\n",
              "    background-color: #434B5C;\n",
              "    box-shadow: 0px 1px 3px 1px rgba(0, 0, 0, 0.15);\n",
              "    filter: drop-shadow(0px 1px 2px rgba(0, 0, 0, 0.3));\n",
              "    fill: #FFFFFF;\n",
              "  }\n",
              "</style>\n",
              "\n",
              "    <script>\n",
              "      async function quickchart(key) {\n",
              "        const containerElement = document.querySelector('#' + key);\n",
              "        const charts = await google.colab.kernel.invokeFunction(\n",
              "            'suggestCharts', [key], {});\n",
              "      }\n",
              "    </script>\n",
              "\n",
              "      <script>\n",
              "\n",
              "function displayQuickchartButton(domScope) {\n",
              "  let quickchartButtonEl =\n",
              "    domScope.querySelector('#df-2d8ee9a8-95e7-478f-83a8-4bd24eec693b button.colab-df-quickchart');\n",
              "  quickchartButtonEl.style.display =\n",
              "    google.colab.kernel.accessAllowed ? 'block' : 'none';\n",
              "}\n",
              "\n",
              "        displayQuickchartButton(document);\n",
              "      </script>\n",
              "      <style>\n",
              "    .colab-df-container {\n",
              "      display:flex;\n",
              "      flex-wrap:wrap;\n",
              "      gap: 12px;\n",
              "    }\n",
              "\n",
              "    .colab-df-convert {\n",
              "      background-color: #E8F0FE;\n",
              "      border: none;\n",
              "      border-radius: 50%;\n",
              "      cursor: pointer;\n",
              "      display: none;\n",
              "      fill: #1967D2;\n",
              "      height: 32px;\n",
              "      padding: 0 0 0 0;\n",
              "      width: 32px;\n",
              "    }\n",
              "\n",
              "    .colab-df-convert:hover {\n",
              "      background-color: #E2EBFA;\n",
              "      box-shadow: 0px 1px 2px rgba(60, 64, 67, 0.3), 0px 1px 3px 1px rgba(60, 64, 67, 0.15);\n",
              "      fill: #174EA6;\n",
              "    }\n",
              "\n",
              "    [theme=dark] .colab-df-convert {\n",
              "      background-color: #3B4455;\n",
              "      fill: #D2E3FC;\n",
              "    }\n",
              "\n",
              "    [theme=dark] .colab-df-convert:hover {\n",
              "      background-color: #434B5C;\n",
              "      box-shadow: 0px 1px 3px 1px rgba(0, 0, 0, 0.15);\n",
              "      filter: drop-shadow(0px 1px 2px rgba(0, 0, 0, 0.3));\n",
              "      fill: #FFFFFF;\n",
              "    }\n",
              "  </style>\n",
              "\n",
              "      <script>\n",
              "        const buttonEl =\n",
              "          document.querySelector('#df-54c1ac03-f9f2-48a4-996b-4a605b00bdeb button.colab-df-convert');\n",
              "        buttonEl.style.display =\n",
              "          google.colab.kernel.accessAllowed ? 'block' : 'none';\n",
              "\n",
              "        async function convertToInteractive(key) {\n",
              "          const element = document.querySelector('#df-54c1ac03-f9f2-48a4-996b-4a605b00bdeb');\n",
              "          const dataTable =\n",
              "            await google.colab.kernel.invokeFunction('convertToInteractive',\n",
              "                                                     [key], {});\n",
              "          if (!dataTable) return;\n",
              "\n",
              "          const docLinkHtml = 'Like what you see? Visit the ' +\n",
              "            '<a target=\"_blank\" href=https://colab.research.google.com/notebooks/data_table.ipynb>data table notebook</a>'\n",
              "            + ' to learn more about interactive tables.';\n",
              "          element.innerHTML = '';\n",
              "          dataTable['output_type'] = 'display_data';\n",
              "          await google.colab.output.renderOutput(dataTable, element);\n",
              "          const docLink = document.createElement('div');\n",
              "          docLink.innerHTML = docLinkHtml;\n",
              "          element.appendChild(docLink);\n",
              "        }\n",
              "      </script>\n",
              "    </div>\n",
              "  </div>\n"
            ]
          },
          "metadata": {},
          "execution_count": 38
        }
      ],
      "source": [
        "df.head(3)"
      ]
    },
    {
      "cell_type": "code",
      "execution_count": 39,
      "metadata": {
        "colab": {
          "base_uri": "https://localhost:8080/"
        },
        "id": "VoSqPNFED5f1",
        "outputId": "bb9e54ab-5165-4018-d491-9efd32cbfe30"
      },
      "outputs": [
        {
          "output_type": "stream",
          "name": "stdout",
          "text": [
            "<class 'pandas.core.frame.DataFrame'>\n",
            "RangeIndex: 521 entries, 0 to 520\n",
            "Data columns (total 7 columns):\n",
            " #   Column            Non-Null Count  Dtype \n",
            "---  ------            --------------  ----- \n",
            " 0   CITY              521 non-null    object\n",
            " 1   TOWN              521 non-null    object\n",
            " 2   Population        521 non-null    object\n",
            " 3   CSI_Violent       521 non-null    object\n",
            " 4   %_CHNG_Violent    521 non-null    object\n",
            " 5   CSI_NoViolent     521 non-null    object\n",
            " 6   %_CHNG_NoViolent  521 non-null    object\n",
            "dtypes: object(7)\n",
            "memory usage: 28.6+ KB\n"
          ]
        }
      ],
      "source": [
        "df.info()"
      ]
    },
    {
      "cell_type": "code",
      "execution_count": 40,
      "metadata": {
        "colab": {
          "base_uri": "https://localhost:8080/"
        },
        "id": "B55myVqlFKd9",
        "outputId": "417d67e4-dc87-48c5-ed55-63e615963e09"
      },
      "outputs": [
        {
          "output_type": "stream",
          "name": "stderr",
          "text": [
            "<ipython-input-40-1eff3207d6b2>:2: DeprecationWarning: `np.float` is a deprecated alias for the builtin `float`. To silence this warning, use `float` by itself. Doing this will not modify any behavior and is safe. If you specifically wanted the numpy scalar type, use `np.float64` here.\n",
            "Deprecated in NumPy 1.20; for more details and guidance: https://numpy.org/devdocs/release/1.20.0-notes.html#deprecations\n",
            "  df['CSI_Violent'] = df['CSI_Violent'].astype(np.float)\n"
          ]
        }
      ],
      "source": [
        "df['CSI_Violent'] = df['CSI_Violent'].str.replace(',', '')\n",
        "df['CSI_Violent'] = df['CSI_Violent'].astype(np.float)"
      ]
    },
    {
      "cell_type": "code",
      "execution_count": 41,
      "metadata": {
        "id": "dBFcV3qiEjrX"
      },
      "outputs": [],
      "source": [
        "df['CSI_NoViolent'] = df['CSI_NoViolent'].str.replace(',', '')\n",
        "df['CSI_NoViolent'] = df['CSI_NoViolent'].astype(float)"
      ]
    },
    {
      "cell_type": "code",
      "execution_count": 42,
      "metadata": {
        "colab": {
          "base_uri": "https://localhost:8080/"
        },
        "id": "0iM3MCgKgOra",
        "outputId": "2b83e632-9ab1-490e-f0bc-9cc0f2033919"
      },
      "outputs": [
        {
          "output_type": "stream",
          "name": "stderr",
          "text": [
            "<ipython-input-42-7bbfd448ebd8>:2: DeprecationWarning: `np.float` is a deprecated alias for the builtin `float`. To silence this warning, use `float` by itself. Doing this will not modify any behavior and is safe. If you specifically wanted the numpy scalar type, use `np.float64` here.\n",
            "Deprecated in NumPy 1.20; for more details and guidance: https://numpy.org/devdocs/release/1.20.0-notes.html#deprecations\n",
            "  df['%_CHNG_Violent'] = df['%_CHNG_Violent'].astype(np.float)\n"
          ]
        }
      ],
      "source": [
        "df['%_CHNG_Violent'] = df['%_CHNG_Violent'].str.replace('%', '')\n",
        "df['%_CHNG_Violent'] = df['%_CHNG_Violent'].astype(np.float)"
      ]
    },
    {
      "cell_type": "code",
      "execution_count": 43,
      "metadata": {
        "colab": {
          "base_uri": "https://localhost:8080/"
        },
        "id": "3eNXJaBFgeeO",
        "outputId": "14dbb208-3648-4ab1-f693-f2b315325e38"
      },
      "outputs": [
        {
          "output_type": "stream",
          "name": "stderr",
          "text": [
            "<ipython-input-43-5f1739b20318>:2: DeprecationWarning: `np.float` is a deprecated alias for the builtin `float`. To silence this warning, use `float` by itself. Doing this will not modify any behavior and is safe. If you specifically wanted the numpy scalar type, use `np.float64` here.\n",
            "Deprecated in NumPy 1.20; for more details and guidance: https://numpy.org/devdocs/release/1.20.0-notes.html#deprecations\n",
            "  df['%_CHNG_NoViolent'] = df['%_CHNG_NoViolent'].astype(np.float)\n"
          ]
        }
      ],
      "source": [
        "df['%_CHNG_NoViolent'] = df['%_CHNG_NoViolent'].str.replace('%', '')\n",
        "df['%_CHNG_NoViolent'] = df['%_CHNG_NoViolent'].astype(np.float)"
      ]
    },
    {
      "cell_type": "code",
      "execution_count": 44,
      "metadata": {
        "id": "xQs4JilogqmP"
      },
      "outputs": [],
      "source": [
        "df['Population'] = df['Population'].str.replace(',', '')\n",
        "df['Population'] = df['Population'].astype(int)"
      ]
    },
    {
      "cell_type": "code",
      "execution_count": 45,
      "metadata": {
        "colab": {
          "base_uri": "https://localhost:8080/",
          "height": 424
        },
        "id": "i1BLTNybqdUM",
        "outputId": "43d80f35-77ef-40c0-9147-9a49aa07ae0f"
      },
      "outputs": [
        {
          "output_type": "execute_result",
          "data": {
            "text/plain": [
              "                                       CITY  TOWN  Population  CSI_Violent  \\\n",
              "0                                    Toronto   ON     2794396         88.3   \n",
              "1                                   Montréal   QC     1762949        105.3   \n",
              "2                                    Calgary   AB     1305550         86.0   \n",
              "3                                     Ottawa   ON     1017449         64.3   \n",
              "4                                   Edmonton   AB      981280        123.8   \n",
              "..                                       ...  ...         ...          ...   \n",
              "516                              Sheshatshiu   NL        1049       1356.6   \n",
              "517                 Sault Ste. Marie (Laird)   ON        1047         31.0   \n",
              "518  Grenville County (Merrickville-Wolford)   ON        1036         18.6   \n",
              "519                                  Manning   AB        1027         59.6   \n",
              "520                              St. Andrews   NB        1001         67.5   \n",
              "\n",
              "     %_CHNG_Violent  CSI_NoViolent  %_CHNG_NoViolent  \n",
              "0              -2.4           45.2              -1.6  \n",
              "1              14.6           59.9               2.7  \n",
              "2               6.5           70.0             -13.9  \n",
              "3              13.8           45.0              -0.3  \n",
              "4              -3.8           99.6             -10.5  \n",
              "..              ...            ...               ...  \n",
              "516            50.4         1022.6               9.4  \n",
              "517           337.4           28.9             -58.1  \n",
              "518           -20.7           25.6              58.5  \n",
              "519           -48.0          122.1              13.8  \n",
              "520           627.7           71.5              12.3  \n",
              "\n",
              "[521 rows x 7 columns]"
            ],
            "text/html": [
              "\n",
              "\n",
              "  <div id=\"df-5585e349-bfe2-47a2-a9e4-4997b5960324\">\n",
              "    <div class=\"colab-df-container\">\n",
              "      <div>\n",
              "<style scoped>\n",
              "    .dataframe tbody tr th:only-of-type {\n",
              "        vertical-align: middle;\n",
              "    }\n",
              "\n",
              "    .dataframe tbody tr th {\n",
              "        vertical-align: top;\n",
              "    }\n",
              "\n",
              "    .dataframe thead th {\n",
              "        text-align: right;\n",
              "    }\n",
              "</style>\n",
              "<table border=\"1\" class=\"dataframe\">\n",
              "  <thead>\n",
              "    <tr style=\"text-align: right;\">\n",
              "      <th></th>\n",
              "      <th>CITY</th>\n",
              "      <th>TOWN</th>\n",
              "      <th>Population</th>\n",
              "      <th>CSI_Violent</th>\n",
              "      <th>%_CHNG_Violent</th>\n",
              "      <th>CSI_NoViolent</th>\n",
              "      <th>%_CHNG_NoViolent</th>\n",
              "    </tr>\n",
              "  </thead>\n",
              "  <tbody>\n",
              "    <tr>\n",
              "      <th>0</th>\n",
              "      <td>Toronto</td>\n",
              "      <td>ON</td>\n",
              "      <td>2794396</td>\n",
              "      <td>88.3</td>\n",
              "      <td>-2.4</td>\n",
              "      <td>45.2</td>\n",
              "      <td>-1.6</td>\n",
              "    </tr>\n",
              "    <tr>\n",
              "      <th>1</th>\n",
              "      <td>Montréal</td>\n",
              "      <td>QC</td>\n",
              "      <td>1762949</td>\n",
              "      <td>105.3</td>\n",
              "      <td>14.6</td>\n",
              "      <td>59.9</td>\n",
              "      <td>2.7</td>\n",
              "    </tr>\n",
              "    <tr>\n",
              "      <th>2</th>\n",
              "      <td>Calgary</td>\n",
              "      <td>AB</td>\n",
              "      <td>1305550</td>\n",
              "      <td>86.0</td>\n",
              "      <td>6.5</td>\n",
              "      <td>70.0</td>\n",
              "      <td>-13.9</td>\n",
              "    </tr>\n",
              "    <tr>\n",
              "      <th>3</th>\n",
              "      <td>Ottawa</td>\n",
              "      <td>ON</td>\n",
              "      <td>1017449</td>\n",
              "      <td>64.3</td>\n",
              "      <td>13.8</td>\n",
              "      <td>45.0</td>\n",
              "      <td>-0.3</td>\n",
              "    </tr>\n",
              "    <tr>\n",
              "      <th>4</th>\n",
              "      <td>Edmonton</td>\n",
              "      <td>AB</td>\n",
              "      <td>981280</td>\n",
              "      <td>123.8</td>\n",
              "      <td>-3.8</td>\n",
              "      <td>99.6</td>\n",
              "      <td>-10.5</td>\n",
              "    </tr>\n",
              "    <tr>\n",
              "      <th>...</th>\n",
              "      <td>...</td>\n",
              "      <td>...</td>\n",
              "      <td>...</td>\n",
              "      <td>...</td>\n",
              "      <td>...</td>\n",
              "      <td>...</td>\n",
              "      <td>...</td>\n",
              "    </tr>\n",
              "    <tr>\n",
              "      <th>516</th>\n",
              "      <td>Sheshatshiu</td>\n",
              "      <td>NL</td>\n",
              "      <td>1049</td>\n",
              "      <td>1356.6</td>\n",
              "      <td>50.4</td>\n",
              "      <td>1022.6</td>\n",
              "      <td>9.4</td>\n",
              "    </tr>\n",
              "    <tr>\n",
              "      <th>517</th>\n",
              "      <td>Sault Ste. Marie (Laird)</td>\n",
              "      <td>ON</td>\n",
              "      <td>1047</td>\n",
              "      <td>31.0</td>\n",
              "      <td>337.4</td>\n",
              "      <td>28.9</td>\n",
              "      <td>-58.1</td>\n",
              "    </tr>\n",
              "    <tr>\n",
              "      <th>518</th>\n",
              "      <td>Grenville County (Merrickville-Wolford)</td>\n",
              "      <td>ON</td>\n",
              "      <td>1036</td>\n",
              "      <td>18.6</td>\n",
              "      <td>-20.7</td>\n",
              "      <td>25.6</td>\n",
              "      <td>58.5</td>\n",
              "    </tr>\n",
              "    <tr>\n",
              "      <th>519</th>\n",
              "      <td>Manning</td>\n",
              "      <td>AB</td>\n",
              "      <td>1027</td>\n",
              "      <td>59.6</td>\n",
              "      <td>-48.0</td>\n",
              "      <td>122.1</td>\n",
              "      <td>13.8</td>\n",
              "    </tr>\n",
              "    <tr>\n",
              "      <th>520</th>\n",
              "      <td>St. Andrews</td>\n",
              "      <td>NB</td>\n",
              "      <td>1001</td>\n",
              "      <td>67.5</td>\n",
              "      <td>627.7</td>\n",
              "      <td>71.5</td>\n",
              "      <td>12.3</td>\n",
              "    </tr>\n",
              "  </tbody>\n",
              "</table>\n",
              "<p>521 rows × 7 columns</p>\n",
              "</div>\n",
              "      <button class=\"colab-df-convert\" onclick=\"convertToInteractive('df-5585e349-bfe2-47a2-a9e4-4997b5960324')\"\n",
              "              title=\"Convert this dataframe to an interactive table.\"\n",
              "              style=\"display:none;\">\n",
              "\n",
              "  <svg xmlns=\"http://www.w3.org/2000/svg\" height=\"24px\"viewBox=\"0 0 24 24\"\n",
              "       width=\"24px\">\n",
              "    <path d=\"M0 0h24v24H0V0z\" fill=\"none\"/>\n",
              "    <path d=\"M18.56 5.44l.94 2.06.94-2.06 2.06-.94-2.06-.94-.94-2.06-.94 2.06-2.06.94zm-11 1L8.5 8.5l.94-2.06 2.06-.94-2.06-.94L8.5 2.5l-.94 2.06-2.06.94zm10 10l.94 2.06.94-2.06 2.06-.94-2.06-.94-.94-2.06-.94 2.06-2.06.94z\"/><path d=\"M17.41 7.96l-1.37-1.37c-.4-.4-.92-.59-1.43-.59-.52 0-1.04.2-1.43.59L10.3 9.45l-7.72 7.72c-.78.78-.78 2.05 0 2.83L4 21.41c.39.39.9.59 1.41.59.51 0 1.02-.2 1.41-.59l7.78-7.78 2.81-2.81c.8-.78.8-2.07 0-2.86zM5.41 20L4 18.59l7.72-7.72 1.47 1.35L5.41 20z\"/>\n",
              "  </svg>\n",
              "      </button>\n",
              "\n",
              "\n",
              "\n",
              "    <div id=\"df-88c28157-e9ba-41f9-98ae-bcf0424d354f\">\n",
              "      <button class=\"colab-df-quickchart\" onclick=\"quickchart('df-88c28157-e9ba-41f9-98ae-bcf0424d354f')\"\n",
              "              title=\"Suggest charts.\"\n",
              "              style=\"display:none;\">\n",
              "\n",
              "<svg xmlns=\"http://www.w3.org/2000/svg\" height=\"24px\"viewBox=\"0 0 24 24\"\n",
              "     width=\"24px\">\n",
              "    <g>\n",
              "        <path d=\"M19 3H5c-1.1 0-2 .9-2 2v14c0 1.1.9 2 2 2h14c1.1 0 2-.9 2-2V5c0-1.1-.9-2-2-2zM9 17H7v-7h2v7zm4 0h-2V7h2v10zm4 0h-2v-4h2v4z\"/>\n",
              "    </g>\n",
              "</svg>\n",
              "      </button>\n",
              "    </div>\n",
              "\n",
              "<style>\n",
              "  .colab-df-quickchart {\n",
              "    background-color: #E8F0FE;\n",
              "    border: none;\n",
              "    border-radius: 50%;\n",
              "    cursor: pointer;\n",
              "    display: none;\n",
              "    fill: #1967D2;\n",
              "    height: 32px;\n",
              "    padding: 0 0 0 0;\n",
              "    width: 32px;\n",
              "  }\n",
              "\n",
              "  .colab-df-quickchart:hover {\n",
              "    background-color: #E2EBFA;\n",
              "    box-shadow: 0px 1px 2px rgba(60, 64, 67, 0.3), 0px 1px 3px 1px rgba(60, 64, 67, 0.15);\n",
              "    fill: #174EA6;\n",
              "  }\n",
              "\n",
              "  [theme=dark] .colab-df-quickchart {\n",
              "    background-color: #3B4455;\n",
              "    fill: #D2E3FC;\n",
              "  }\n",
              "\n",
              "  [theme=dark] .colab-df-quickchart:hover {\n",
              "    background-color: #434B5C;\n",
              "    box-shadow: 0px 1px 3px 1px rgba(0, 0, 0, 0.15);\n",
              "    filter: drop-shadow(0px 1px 2px rgba(0, 0, 0, 0.3));\n",
              "    fill: #FFFFFF;\n",
              "  }\n",
              "</style>\n",
              "\n",
              "    <script>\n",
              "      async function quickchart(key) {\n",
              "        const containerElement = document.querySelector('#' + key);\n",
              "        const charts = await google.colab.kernel.invokeFunction(\n",
              "            'suggestCharts', [key], {});\n",
              "      }\n",
              "    </script>\n",
              "\n",
              "      <script>\n",
              "\n",
              "function displayQuickchartButton(domScope) {\n",
              "  let quickchartButtonEl =\n",
              "    domScope.querySelector('#df-88c28157-e9ba-41f9-98ae-bcf0424d354f button.colab-df-quickchart');\n",
              "  quickchartButtonEl.style.display =\n",
              "    google.colab.kernel.accessAllowed ? 'block' : 'none';\n",
              "}\n",
              "\n",
              "        displayQuickchartButton(document);\n",
              "      </script>\n",
              "      <style>\n",
              "    .colab-df-container {\n",
              "      display:flex;\n",
              "      flex-wrap:wrap;\n",
              "      gap: 12px;\n",
              "    }\n",
              "\n",
              "    .colab-df-convert {\n",
              "      background-color: #E8F0FE;\n",
              "      border: none;\n",
              "      border-radius: 50%;\n",
              "      cursor: pointer;\n",
              "      display: none;\n",
              "      fill: #1967D2;\n",
              "      height: 32px;\n",
              "      padding: 0 0 0 0;\n",
              "      width: 32px;\n",
              "    }\n",
              "\n",
              "    .colab-df-convert:hover {\n",
              "      background-color: #E2EBFA;\n",
              "      box-shadow: 0px 1px 2px rgba(60, 64, 67, 0.3), 0px 1px 3px 1px rgba(60, 64, 67, 0.15);\n",
              "      fill: #174EA6;\n",
              "    }\n",
              "\n",
              "    [theme=dark] .colab-df-convert {\n",
              "      background-color: #3B4455;\n",
              "      fill: #D2E3FC;\n",
              "    }\n",
              "\n",
              "    [theme=dark] .colab-df-convert:hover {\n",
              "      background-color: #434B5C;\n",
              "      box-shadow: 0px 1px 3px 1px rgba(0, 0, 0, 0.15);\n",
              "      filter: drop-shadow(0px 1px 2px rgba(0, 0, 0, 0.3));\n",
              "      fill: #FFFFFF;\n",
              "    }\n",
              "  </style>\n",
              "\n",
              "      <script>\n",
              "        const buttonEl =\n",
              "          document.querySelector('#df-5585e349-bfe2-47a2-a9e4-4997b5960324 button.colab-df-convert');\n",
              "        buttonEl.style.display =\n",
              "          google.colab.kernel.accessAllowed ? 'block' : 'none';\n",
              "\n",
              "        async function convertToInteractive(key) {\n",
              "          const element = document.querySelector('#df-5585e349-bfe2-47a2-a9e4-4997b5960324');\n",
              "          const dataTable =\n",
              "            await google.colab.kernel.invokeFunction('convertToInteractive',\n",
              "                                                     [key], {});\n",
              "          if (!dataTable) return;\n",
              "\n",
              "          const docLinkHtml = 'Like what you see? Visit the ' +\n",
              "            '<a target=\"_blank\" href=https://colab.research.google.com/notebooks/data_table.ipynb>data table notebook</a>'\n",
              "            + ' to learn more about interactive tables.';\n",
              "          element.innerHTML = '';\n",
              "          dataTable['output_type'] = 'display_data';\n",
              "          await google.colab.output.renderOutput(dataTable, element);\n",
              "          const docLink = document.createElement('div');\n",
              "          docLink.innerHTML = docLinkHtml;\n",
              "          element.appendChild(docLink);\n",
              "        }\n",
              "      </script>\n",
              "    </div>\n",
              "  </div>\n"
            ]
          },
          "metadata": {},
          "execution_count": 45
        }
      ],
      "source": [
        "df"
      ]
    },
    {
      "cell_type": "code",
      "execution_count": 46,
      "metadata": {
        "colab": {
          "base_uri": "https://localhost:8080/"
        },
        "id": "LjWzdEIYgpOD",
        "outputId": "bae1d9ff-9647-4a8b-af4e-2e8aee21b1ee"
      },
      "outputs": [
        {
          "output_type": "stream",
          "name": "stdout",
          "text": [
            "<class 'pandas.core.frame.DataFrame'>\n",
            "RangeIndex: 521 entries, 0 to 520\n",
            "Data columns (total 7 columns):\n",
            " #   Column            Non-Null Count  Dtype  \n",
            "---  ------            --------------  -----  \n",
            " 0   CITY              521 non-null    object \n",
            " 1   TOWN              521 non-null    object \n",
            " 2   Population        521 non-null    int64  \n",
            " 3   CSI_Violent       521 non-null    float64\n",
            " 4   %_CHNG_Violent    521 non-null    float64\n",
            " 5   CSI_NoViolent     521 non-null    float64\n",
            " 6   %_CHNG_NoViolent  521 non-null    float64\n",
            "dtypes: float64(4), int64(1), object(2)\n",
            "memory usage: 28.6+ KB\n"
          ]
        }
      ],
      "source": [
        "df.info()"
      ]
    },
    {
      "cell_type": "code",
      "execution_count": 47,
      "metadata": {
        "colab": {
          "base_uri": "https://localhost:8080/",
          "height": 630
        },
        "id": "x458VVk5rs-T",
        "outputId": "4d9a20f2-0b67-4426-bae1-82f16d7a930b"
      },
      "outputs": [
        {
          "output_type": "stream",
          "name": "stderr",
          "text": [
            "<ipython-input-47-dabc7eaf9569>:4: FutureWarning: The default value of numeric_only in DataFrame.corr is deprecated. In a future version, it will default to False. Select only valid columns or specify the value of numeric_only to silence this warning.\n",
            "  correlation = df.corr(method=\"pearson\")\n"
          ]
        },
        {
          "output_type": "display_data",
          "data": {
            "text/plain": [
              "<Figure size 640x480 with 2 Axes>"
            ],
            "image/png": "[encoded data removed]"
          },
          "metadata": {}
        }
      ],
      "source": [
        "le = LabelEncoder()\n",
        "df['TOWN_encoded'] = le.fit_transform(df['TOWN'])\n",
        "\n",
        "correlation = df.corr(method=\"pearson\")\n",
        "sns.heatmap(correlation,annot=True)\n",
        "plt.title('Correlation map')\n",
        "#plt.xlabel('')\n",
        "#plt.ylabel('')\n",
        "plt.show()"
      ]
    },
    {
      "cell_type": "code",
      "execution_count": 48,
      "metadata": {
        "colab": {
          "base_uri": "https://localhost:8080/"
        },
        "id": "hV3f8S7ciMWd",
        "outputId": "cc5df9cd-50ff-4b7c-fbf9-d092fe540e61"
      },
      "outputs": [
        {
          "output_type": "stream",
          "name": "stdout",
          "text": [
            "Towns at Canada to study\n",
            "['ON' 'QC' 'AB' 'MB' 'BC' 'NS' 'SK' 'NL' 'NB' 'PEI' 'YT' 'NWT' 'NU']\n",
            "Number of towns to study\n",
            "13\n"
          ]
        }
      ],
      "source": [
        "print(\"Towns at Canada to study\")\n",
        "print(df['TOWN'].unique())\n",
        "print(\"Number of towns to study\")\n",
        "print(df['TOWN'].nunique())"
      ]
    },
    {
      "cell_type": "code",
      "execution_count": 49,
      "metadata": {
        "colab": {
          "base_uri": "https://localhost:8080/",
          "height": 457
        },
        "id": "71yO3JkekzoB",
        "outputId": "0f96fe07-6b6b-4852-8929-bf802a2b3c7e"
      },
      "outputs": [
        {
          "output_type": "execute_result",
          "data": {
            "text/plain": [
              "   TOWN  CSI_Violent  Population\n",
              "0    AB   135.815909     3323048\n",
              "1    BC   113.189535     3605446\n",
              "2    MB   236.287879      978996\n",
              "3    NB    91.223529      372659\n",
              "4    NL   146.736842      291432\n",
              "5    NS   108.580000      526340\n",
              "6    NU   570.633333       16621\n",
              "7   NWT   410.475000       26803\n",
              "8    ON    84.927097     8448323\n",
              "9   PEI    55.900000       87970\n",
              "10   QC   184.625641     3608721\n",
              "11   SK   259.722222      727177\n",
              "12   YT   266.750000       25605"
            ],
            "text/html": [
              "\n",
              "\n",
              "  <div id=\"df-a324e36a-50ca-45ce-b6bc-4fb67c1acc08\">\n",
              "    <div class=\"colab-df-container\">\n",
              "      <div>\n",
              "<style scoped>\n",
              "    .dataframe tbody tr th:only-of-type {\n",
              "        vertical-align: middle;\n",
              "    }\n",
              "\n",
              "    .dataframe tbody tr th {\n",
              "        vertical-align: top;\n",
              "    }\n",
              "\n",
              "    .dataframe thead th {\n",
              "        text-align: right;\n",
              "    }\n",
              "</style>\n",
              "<table border=\"1\" class=\"dataframe\">\n",
              "  <thead>\n",
              "    <tr style=\"text-align: right;\">\n",
              "      <th></th>\n",
              "      <th>TOWN</th>\n",
              "      <th>CSI_Violent</th>\n",
              "      <th>Population</th>\n",
              "    </tr>\n",
              "  </thead>\n",
              "  <tbody>\n",
              "    <tr>\n",
              "      <th>0</th>\n",
              "      <td>AB</td>\n",
              "      <td>135.815909</td>\n",
              "      <td>3323048</td>\n",
              "    </tr>\n",
              "    <tr>\n",
              "      <th>1</th>\n",
              "      <td>BC</td>\n",
              "      <td>113.189535</td>\n",
              "      <td>3605446</td>\n",
              "    </tr>\n",
              "    <tr>\n",
              "      <th>2</th>\n",
              "      <td>MB</td>\n",
              "      <td>236.287879</td>\n",
              "      <td>978996</td>\n",
              "    </tr>\n",
              "    <tr>\n",
              "      <th>3</th>\n",
              "      <td>NB</td>\n",
              "      <td>91.223529</td>\n",
              "      <td>372659</td>\n",
              "    </tr>\n",
              "    <tr>\n",
              "      <th>4</th>\n",
              "      <td>NL</td>\n",
              "      <td>146.736842</td>\n",
              "      <td>291432</td>\n",
              "    </tr>\n",
              "    <tr>\n",
              "      <th>5</th>\n",
              "      <td>NS</td>\n",
              "      <td>108.580000</td>\n",
              "      <td>526340</td>\n",
              "    </tr>\n",
              "    <tr>\n",
              "      <th>6</th>\n",
              "      <td>NU</td>\n",
              "      <td>570.633333</td>\n",
              "      <td>16621</td>\n",
              "    </tr>\n",
              "    <tr>\n",
              "      <th>7</th>\n",
              "      <td>NWT</td>\n",
              "      <td>410.475000</td>\n",
              "      <td>26803</td>\n",
              "    </tr>\n",
              "    <tr>\n",
              "      <th>8</th>\n",
              "      <td>ON</td>\n",
              "      <td>84.927097</td>\n",
              "      <td>8448323</td>\n",
              "    </tr>\n",
              "    <tr>\n",
              "      <th>9</th>\n",
              "      <td>PEI</td>\n",
              "      <td>55.900000</td>\n",
              "      <td>87970</td>\n",
              "    </tr>\n",
              "    <tr>\n",
              "      <th>10</th>\n",
              "      <td>QC</td>\n",
              "      <td>184.625641</td>\n",
              "      <td>3608721</td>\n",
              "    </tr>\n",
              "    <tr>\n",
              "      <th>11</th>\n",
              "      <td>SK</td>\n",
              "      <td>259.722222</td>\n",
              "      <td>727177</td>\n",
              "    </tr>\n",
              "    <tr>\n",
              "      <th>12</th>\n",
              "      <td>YT</td>\n",
              "      <td>266.750000</td>\n",
              "      <td>25605</td>\n",
              "    </tr>\n",
              "  </tbody>\n",
              "</table>\n",
              "</div>\n",
              "      <button class=\"colab-df-convert\" onclick=\"convertToInteractive('df-a324e36a-50ca-45ce-b6bc-4fb67c1acc08')\"\n",
              "              title=\"Convert this dataframe to an interactive table.\"\n",
              "              style=\"display:none;\">\n",
              "\n",
              "  <svg xmlns=\"http://www.w3.org/2000/svg\" height=\"24px\"viewBox=\"0 0 24 24\"\n",
              "       width=\"24px\">\n",
              "    <path d=\"M0 0h24v24H0V0z\" fill=\"none\"/>\n",
              "    <path d=\"M18.56 5.44l.94 2.06.94-2.06 2.06-.94-2.06-.94-.94-2.06-.94 2.06-2.06.94zm-11 1L8.5 8.5l.94-2.06 2.06-.94-2.06-.94L8.5 2.5l-.94 2.06-2.06.94zm10 10l.94 2.06.94-2.06 2.06-.94-2.06-.94-.94-2.06-.94 2.06-2.06.94z\"/><path d=\"M17.41 7.96l-1.37-1.37c-.4-.4-.92-.59-1.43-.59-.52 0-1.04.2-1.43.59L10.3 9.45l-7.72 7.72c-.78.78-.78 2.05 0 2.83L4 21.41c.39.39.9.59 1.41.59.51 0 1.02-.2 1.41-.59l7.78-7.78 2.81-2.81c.8-.78.8-2.07 0-2.86zM5.41 20L4 18.59l7.72-7.72 1.47 1.35L5.41 20z\"/>\n",
              "  </svg>\n",
              "      </button>\n",
              "\n",
              "\n",
              "\n",
              "    <div id=\"df-ae64e0c3-7cac-4a25-b2e2-f92ad197a0fb\">\n",
              "      <button class=\"colab-df-quickchart\" onclick=\"quickchart('df-ae64e0c3-7cac-4a25-b2e2-f92ad197a0fb')\"\n",
              "              title=\"Suggest charts.\"\n",
              "              style=\"display:none;\">\n",
              "\n",
              "<svg xmlns=\"http://www.w3.org/2000/svg\" height=\"24px\"viewBox=\"0 0 24 24\"\n",
              "     width=\"24px\">\n",
              "    <g>\n",
              "        <path d=\"M19 3H5c-1.1 0-2 .9-2 2v14c0 1.1.9 2 2 2h14c1.1 0 2-.9 2-2V5c0-1.1-.9-2-2-2zM9 17H7v-7h2v7zm4 0h-2V7h2v10zm4 0h-2v-4h2v4z\"/>\n",
              "    </g>\n",
              "</svg>\n",
              "      </button>\n",
              "    </div>\n",
              "\n",
              "<style>\n",
              "  .colab-df-quickchart {\n",
              "    background-color: #E8F0FE;\n",
              "    border: none;\n",
              "    border-radius: 50%;\n",
              "    cursor: pointer;\n",
              "    display: none;\n",
              "    fill: #1967D2;\n",
              "    height: 32px;\n",
              "    padding: 0 0 0 0;\n",
              "    width: 32px;\n",
              "  }\n",
              "\n",
              "  .colab-df-quickchart:hover {\n",
              "    background-color: #E2EBFA;\n",
              "    box-shadow: 0px 1px 2px rgba(60, 64, 67, 0.3), 0px 1px 3px 1px rgba(60, 64, 67, 0.15);\n",
              "    fill: #174EA6;\n",
              "  }\n",
              "\n",
              "  [theme=dark] .colab-df-quickchart {\n",
              "    background-color: #3B4455;\n",
              "    fill: #D2E3FC;\n",
              "  }\n",
              "\n",
              "  [theme=dark] .colab-df-quickchart:hover {\n",
              "    background-color: #434B5C;\n",
              "    box-shadow: 0px 1px 3px 1px rgba(0, 0, 0, 0.15);\n",
              "    filter: drop-shadow(0px 1px 2px rgba(0, 0, 0, 0.3));\n",
              "    fill: #FFFFFF;\n",
              "  }\n",
              "</style>\n",
              "\n",
              "    <script>\n",
              "      async function quickchart(key) {\n",
              "        const containerElement = document.querySelector('#' + key);\n",
              "        const charts = await google.colab.kernel.invokeFunction(\n",
              "            'suggestCharts', [key], {});\n",
              "      }\n",
              "    </script>\n",
              "\n",
              "      <script>\n",
              "\n",
              "function displayQuickchartButton(domScope) {\n",
              "  let quickchartButtonEl =\n",
              "    domScope.querySelector('#df-ae64e0c3-7cac-4a25-b2e2-f92ad197a0fb button.colab-df-quickchart');\n",
              "  quickchartButtonEl.style.display =\n",
              "    google.colab.kernel.accessAllowed ? 'block' : 'none';\n",
              "}\n",
              "\n",
              "        displayQuickchartButton(document);\n",
              "      </script>\n",
              "      <style>\n",
              "    .colab-df-container {\n",
              "      display:flex;\n",
              "      flex-wrap:wrap;\n",
              "      gap: 12px;\n",
              "    }\n",
              "\n",
              "    .colab-df-convert {\n",
              "      background-color: #E8F0FE;\n",
              "      border: none;\n",
              "      border-radius: 50%;\n",
              "      cursor: pointer;\n",
              "      display: none;\n",
              "      fill: #1967D2;\n",
              "      height: 32px;\n",
              "      padding: 0 0 0 0;\n",
              "      width: 32px;\n",
              "    }\n",
              "\n",
              "    .colab-df-convert:hover {\n",
              "      background-color: #E2EBFA;\n",
              "      box-shadow: 0px 1px 2px rgba(60, 64, 67, 0.3), 0px 1px 3px 1px rgba(60, 64, 67, 0.15);\n",
              "      fill: #174EA6;\n",
              "    }\n",
              "\n",
              "    [theme=dark] .colab-df-convert {\n",
              "      background-color: #3B4455;\n",
              "      fill: #D2E3FC;\n",
              "    }\n",
              "\n",
              "    [theme=dark] .colab-df-convert:hover {\n",
              "      background-color: #434B5C;\n",
              "      box-shadow: 0px 1px 3px 1px rgba(0, 0, 0, 0.15);\n",
              "      filter: drop-shadow(0px 1px 2px rgba(0, 0, 0, 0.3));\n",
              "      fill: #FFFFFF;\n",
              "    }\n",
              "  </style>\n",
              "\n",
              "      <script>\n",
              "        const buttonEl =\n",
              "          document.querySelector('#df-a324e36a-50ca-45ce-b6bc-4fb67c1acc08 button.colab-df-convert');\n",
              "        buttonEl.style.display =\n",
              "          google.colab.kernel.accessAllowed ? 'block' : 'none';\n",
              "\n",
              "        async function convertToInteractive(key) {\n",
              "          const element = document.querySelector('#df-a324e36a-50ca-45ce-b6bc-4fb67c1acc08');\n",
              "          const dataTable =\n",
              "            await google.colab.kernel.invokeFunction('convertToInteractive',\n",
              "                                                     [key], {});\n",
              "          if (!dataTable) return;\n",
              "\n",
              "          const docLinkHtml = 'Like what you see? Visit the ' +\n",
              "            '<a target=\"_blank\" href=https://colab.research.google.com/notebooks/data_table.ipynb>data table notebook</a>'\n",
              "            + ' to learn more about interactive tables.';\n",
              "          element.innerHTML = '';\n",
              "          dataTable['output_type'] = 'display_data';\n",
              "          await google.colab.output.renderOutput(dataTable, element);\n",
              "          const docLink = document.createElement('div');\n",
              "          docLink.innerHTML = docLinkHtml;\n",
              "          element.appendChild(docLink);\n",
              "        }\n",
              "      </script>\n",
              "    </div>\n",
              "  </div>\n"
            ]
          },
          "metadata": {},
          "execution_count": 49
        }
      ],
      "source": [
        "df_grouped = df.groupby('TOWN')['CSI_Violent'].mean().reset_index()\n",
        "df_sample = df.groupby('TOWN')['Population'].sum().reset_index()\n",
        "df_grouped['Population'] = df_sample['Population']\n",
        "df_grouped"
      ]
    },
    {
      "cell_type": "code",
      "execution_count": 50,
      "metadata": {
        "colab": {
          "base_uri": "https://localhost:8080/",
          "height": 490
        },
        "id": "_BJIZ18moOSb",
        "outputId": "30090d56-76d8-4c8e-b541-7e428556f643"
      },
      "outputs": [
        {
          "output_type": "display_data",
          "data": {
            "text/plain": [
              "<Figure size 640x480 with 1 Axes>"
            ],
            "image/png": "[encoded data removed]"
          },
          "metadata": {}
        }
      ],
      "source": [
        "df_sorted = df_grouped.sort_values(by='Population', ascending=False)\n",
        "\n",
        "plt.bar(df_sorted['TOWN'], df_sorted['Population'])\n",
        "plt.xlabel('TOWN')\n",
        "plt.ylabel('Population')\n",
        "plt.title('Population by TOWN')\n",
        "plt.xticks(rotation=90)\n",
        "\n",
        "plt.show()"
      ]
    },
    {
      "cell_type": "code",
      "execution_count": 51,
      "metadata": {
        "colab": {
          "base_uri": "https://localhost:8080/",
          "height": 490
        },
        "id": "1U6IEJOVrP1X",
        "outputId": "c71e5728-2be0-409c-d0e6-14c1abf0ff88"
      },
      "outputs": [
        {
          "output_type": "display_data",
          "data": {
            "text/plain": [
              "<Figure size 640x480 with 1 Axes>"
            ],
            "image/png": "[encoded data removed]"
          },
          "metadata": {}
        }
      ],
      "source": [
        "df_sorted = df_grouped.sort_values(by='CSI_Violent', ascending=False)\n",
        "\n",
        "plt.bar(df_sorted['TOWN'], df_sorted['CSI_Violent'])\n",
        "plt.xlabel('TOWN')\n",
        "plt.ylabel('Crimes reported')\n",
        "plt.title('Violence average by TOWN')\n",
        "plt.xticks(rotation=90)\n",
        "\n",
        "plt.show()"
      ]
    },
    {
      "cell_type": "markdown",
      "source": [
        "As we can see, the provinces with the highest crime rates are NU (Nunavut) and NWT (Northwest Territories). At first glance, this might be alarming and a sign to avoid living there. However, it's important to mention a crucial factor: these two provinces are also among the smallest in Canada.\n",
        "\n",
        "Most crime surveys and reports do not emphasize the relationship between population size and crime rates. This may not be apparent at first, but what it means is that in a small population, even a small number of crimes can significantly impact the crime rate per capita. For example, if 10 out of 100 people commit a crime, the crime rate appears high. In contrast, in large populations like Ontario or Quebec, this relationship seems less pronounced, with a ratio of something like 10 out of 100,000.\n",
        "\n",
        "However, in many cases, small provinces like NU (Nunavut) or NWT (Northwest Territories) could still be options to consider for relocation. It's important to note that these are very small cities.\n",
        "\n",
        "Considering the above, in terms of safety, it would be best to live in **Ontario**. Its large population is reflected in its mega-cities, thriving businesses, multiculturalism, and low crime rate."
      ],
      "metadata": {
        "id": "XjO0pP2BSeI8"
      }
    },
    {
      "cell_type": "code",
      "execution_count": 52,
      "metadata": {
        "colab": {
          "base_uri": "https://localhost:8080/",
          "height": 472
        },
        "id": "9zP1MGoItN7e",
        "outputId": "4886e06f-7cb0-43c8-a1d5-2a7c32755cbb"
      },
      "outputs": [
        {
          "output_type": "display_data",
          "data": {
            "text/plain": [
              "<Figure size 640x480 with 1 Axes>"
            ],
            "image/png": "[encoded data removed]"
          },
          "metadata": {}
        }
      ],
      "source": [
        "sns.regplot(x='Population', y='CSI_Violent', data=df, scatter_kws={\"color\": \"red\"}, line_kws={\"color\": \"blue\"})\n",
        "plt.title('Relation Pop. & Vilence')\n",
        "plt.xlabel('Population')\n",
        "plt.ylabel('Crimes/Violence')\n",
        "plt.show()"
      ]
    },
    {
      "cell_type": "markdown",
      "metadata": {
        "id": "rAht1khuuqtn"
      },
      "source": [
        "Source:\n",
        "\n",
        "https://canadacrimeindex.com/crime-severity-index?sort=population&min_population=0&province=#data-source"
      ]
    }
  ],
  "metadata": {
    "colab": {
      "provenance": []
    },
    "kernelspec": {
      "display_name": "Python 3",
      "name": "python3"
    },
    "language_info": {
      "name": "python"
    }
  },
  "nbformat": 4,
  "nbformat_minor": 0
}